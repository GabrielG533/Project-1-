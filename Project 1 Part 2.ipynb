{
 "cells": [
  {
   "cell_type": "markdown",
   "metadata": {},
   "source": [
    "# Project #1 Part 3: Data Analysis and Visualization\n",
    "\n",
    "**Name:** Gabriel George\n",
    "\n",
    "**Date:** 10/16/24\n",
    "\n",
    "**Excercise:** Data Cleaning Project\n",
    "\n",
    "**Purpose:** Pefrom data cleaning on non major results surevey\n"
   ]
  },
  {
   "cell_type": "code",
   "execution_count": 3,
   "metadata": {
    "metadata": {}
   },
   "outputs": [
    {
     "ename": "NameError",
     "evalue": "name 'df' is not defined",
     "output_type": "error",
     "traceback": [
      "\u001b[0;31m---------------------------------------------------------------------------\u001b[0m",
      "\u001b[0;31mNameError\u001b[0m                                 Traceback (most recent call last)",
      "Cell \u001b[0;32mIn[3], line 19\u001b[0m\n\u001b[1;32m     16\u001b[0m     df \u001b[38;5;241m=\u001b[39m df\u001b[38;5;241m.\u001b[39mconvert_dtypes()\n\u001b[1;32m     17\u001b[0m     \u001b[38;5;28;01mreturn\u001b[39;00m df               \n\u001b[0;32m---> 19\u001b[0m clean_data(df)\n\u001b[1;32m     20\u001b[0m \u001b[38;5;66;03m#Reading the file into python\u001b[39;00m\n\u001b[1;32m     21\u001b[0m df \u001b[38;5;241m=\u001b[39m pd\u001b[38;5;241m.\u001b[39mread_csv(\u001b[38;5;124m'\u001b[39m\u001b[38;5;124mNon-Majors Survey Results - Fall 2020.csv\u001b[39m\u001b[38;5;124m'\u001b[39m)\n",
      "\u001b[0;31mNameError\u001b[0m: name 'df' is not defined"
     ]
    }
   ],
   "source": [
    "#Importing pandas\n",
    "import pandas as pd\n",
    "\n",
    "def clean_data(df):\n",
    "    # Dropping duplicate rows\n",
    "    df = df.drop_duplicates()\n",
    "    # Dropping columns with all NaN values\n",
    "    df = df.dropna(axis=1, how='all')\n",
    "    # Filling missing values with column mean for numeric columns\n",
    "    df = df.fillna(df.mean(numeric_only=True))\n",
    "    # Converting column names to lowercase\n",
    "    df.columns = df.columns.str.lower().str.replace(' ', '_')\n",
    "    # Stripping whitespace from string columns\n",
    "    df = df.applymap(lambda x: x.strip() if isinstance(x, str) else x)\n",
    "    # Ensuring data types are consistent\n",
    "    df = df.convert_dtypes()\n",
    "    return df               \n",
    "\n",
    "clean_data(df)\n",
    "#Reading the file into python\n",
    "df = pd.read_csv('Non-Majors Survey Results - Fall 2020.csv')\n",
    "\n",
    "\n",
    "#Cleaning the data\n",
    "df.head()\n",
    "df.tail()\n",
    "df.sample()\n",
    "df.info()\n",
    "df.shape\n",
    "df.columns\n",
    "df.describe()\n",
    "df.dtypes\n",
    "\n",
    "#Reading the second dataset in python\n",
    "df2 = pd.read_csv('Non-Majors Survey Results - Fall 2021.csv',ing='latin1')\n",
    "df2.head()\n",
    "df2.tail()\n",
    "df2.sample()\n",
    "df2.info()\n",
    "df2.shape\n",
    "df2.columns\n",
    "df2.describe()\n",
    "df2.dtypes\n",
    "#Reading the third dataset in python\n",
    "df3 = pd.read_csv('Non-Majors Survey Results - Fall 2022.csv', encoding='latin1')\n",
    "#Calling the cleaning commands \n",
    "df3.head()\n",
    "df3.tail()\n",
    "df3.sample()\n",
    "df3.info()\n",
    "df3.shape\n",
    "df3.columns\n",
    "df3.describe()\n",
    "df3.dtypes\n",
    "\n",
    "#Reading the fourth dataset in python\n",
    "df4 = pd.read_csv('Non-Majors Survey Results - Fall 2023.csv', encoding='latin1')\n",
    "#Cleaning the data\n",
    "df4.head()\n",
    "df4.tail()\n",
    "df4.sample()\n",
    "df4.info()\n",
    "df4.shape\n",
    "df4.columns\n",
    "df4.describe()\n",
    "df4.dtypes\n",
    "\n",
    "df.to_csv('Non-Majors-Survey-Results(Cleaned)', index=False)"
   ]
  }
 ],
 "metadata": {
  "kernelspec": {
   "display_name": "Python 3",
   "language": "python",
   "name": "python3"
  },
  "language_info": {
   "codemirror_mode": {
    "name": "ipython",
    "version": 3
   },
   "file_extension": ".py",
   "mimetype": "text/x-python",
   "name": "python",
   "nbconvert_exporter": "python",
   "pygments_lexer": "ipython3",
   "version": "3.12.4"
  }
 },
 "nbformat": 4,
 "nbformat_minor": 2
}
